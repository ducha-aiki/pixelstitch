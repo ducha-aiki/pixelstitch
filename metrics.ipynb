{
 "cells": [
  {
   "cell_type": "raw",
   "metadata": {},
   "source": [
    "---\n",
    "description: Functions for evaluation if the labeling is good/done\n",
    "output-file: metrics.html\n",
    "title: metrics\n",
    "\n",
    "---\n",
    "\n"
   ]
  },
  {
   "cell_type": "code",
   "execution_count": null,
   "metadata": {},
   "outputs": [],
   "source": [
    "#| default_exp metrics"
   ]
  },
  {
   "cell_type": "code",
   "execution_count": null,
   "metadata": {},
   "outputs": [
    {
     "name": "stderr",
     "output_type": "stream",
     "text": [
      "/opt/homebrew/Caskroom/miniforge/base/envs/python39/lib/python3.9/site-packages/ipykernel/ipkernel.py:283: DeprecationWarning: `should_run_async` will not call `transform_cell` automatically in the future. Please pass the result to `transformed_cell` argument and any exception that happen during thetransform in `preprocessing_exc_tuple` in IPython 7.17 and above.\n",
      "  and should_run_async(code)\n"
     ]
    }
   ],
   "source": [
    "%load_ext autoreload\n",
    "%autoreload 2"
   ]
  },
  {
   "cell_type": "code",
   "execution_count": null,
   "metadata": {},
   "outputs": [
    {
     "name": "stderr",
     "output_type": "stream",
     "text": [
      "/opt/homebrew/Caskroom/miniforge/base/envs/python39/lib/python3.9/site-packages/ipykernel/ipkernel.py:283: DeprecationWarning: `should_run_async` will not call `transform_cell` automatically in the future. Please pass the result to `transformed_cell` argument and any exception that happen during thetransform in `preprocessing_exc_tuple` in IPython 7.17 and above.\n",
      "  and should_run_async(code)\n",
      "/opt/homebrew/Caskroom/miniforge/base/envs/python39/lib/python3.9/site-packages/nbconvert/filters/strings.py:22: DeprecationWarning: defusedxml.cElementTree is deprecated, import from defusedxml.ElementTree instead.\n",
      "  from defusedxml import cElementTree as ElementTree\n",
      "/opt/homebrew/Caskroom/miniforge/base/envs/python39/lib/python3.9/site-packages/nbconvert/exporters/html.py:77: DeprecationWarning: 'contextfilter' is renamed to 'pass_context', the old name will be removed in Jinja 3.1.\n",
      "  def markdown2html(self, context, source):\n"
     ]
    }
   ],
   "source": [
    "#| include: false\n",
    "from nbdev.showdoc import *"
   ]
  },
  {
   "cell_type": "code",
   "execution_count": null,
   "metadata": {},
   "outputs": [],
   "source": []
  },
  {
   "cell_type": "code",
   "execution_count": null,
   "metadata": {},
   "outputs": [],
   "source": [
    "#| export \n",
    "import torch\n",
    "import kornia as K\n",
    "import kornia.geometry as KG\n",
    "import cv2\n",
    "import numpy as np\n",
    "\n",
    "def leave_one_out_F_validation(corrs: np.ndarray, error: str = 'symepi'):\n",
    "    assert error in ['symepi', 'sampson']\n",
    "    metric = KG.symmetrical_epipolar_distance if error == 'symepi' else KG.sampson_epipolar_distance\n",
    "    num = len(corrs)\n",
    "    out = {\"min\": None,\n",
    "           \"max\": None,\n",
    "           \"mean\": None,\n",
    "           \"all\": [],\n",
    "           \"max_idx\": None}\n",
    "    if num < 9:\n",
    "        return out\n",
    "    errors = []\n",
    "    for leave_idx in range(num):\n",
    "        corrs_cur = np.concatenate([\n",
    "            corrs[:leave_idx],\n",
    "            corrs[leave_idx+1:]      \n",
    "        ], axis=0)\n",
    "        pt = torch.from_numpy(corrs[leave_idx].reshape(1, 1, 4))\n",
    "        F, _ = cv2.findFundamentalMat(corrs_cur[:,:2],\n",
    "                                      corrs_cur[:,2:], cv2.FM_8POINT)\n",
    "        errors.append(metric(pt[:,:,:2],\n",
    "                             pt[:,:,2:],\n",
    "                             torch.from_numpy(F)[None], squared=False).item())\n",
    "    errors = np.array(errors)\n",
    "    out[\"all\"] = errors\n",
    "    out[\"min\"] = errors.min()\n",
    "    out[\"mean\"] = errors.mean()\n",
    "    out[\"max_idx\"] = np.argmax(errors)\n",
    "    out[\"max\"] = errors[out[\"max_idx\"]]\n",
    "    return out\n",
    "\n",
    "def leave_one_out_H_validation(corrs: np.ndarray, error: str = 'symtransfer'):\n",
    "    assert error in ['symtransfer']\n",
    "    metric = KG.symmetric_transfer_error\n",
    "    num = len(corrs)\n",
    "    out = {\"min\": None,\n",
    "           \"max\": None,\n",
    "           \"mean\": None,\n",
    "           \"all\": [],\n",
    "           \"max_idx\": None}\n",
    "    if num < 5:\n",
    "        return out\n",
    "    errors = []\n",
    "    for leave_idx in range(num):\n",
    "        corrs_cur = np.concatenate([\n",
    "            corrs[:leave_idx],\n",
    "            corrs[leave_idx+1:]      \n",
    "        ], axis=0)\n",
    "        pt = torch.from_numpy(corrs[leave_idx].reshape(1, 1, 4))\n",
    "        H, _ = cv2.findHomography(corrs_cur[:,:2],\n",
    "                                  corrs_cur[:,2:], 0)\n",
    "        errors.append(metric(pt[:,:,:2],\n",
    "                             pt[:,:,2:],\n",
    "                             torch.from_numpy(H)[None], squared=False).item())\n",
    "    errors = np.array(errors)\n",
    "    out[\"all\"] = errors\n",
    "    out[\"min\"] = errors.min()\n",
    "    out[\"mean\"] = errors.mean()\n",
    "    out[\"max_idx\"] = np.argmax(errors)\n",
    "    out[\"max\"] = errors[out[\"max_idx\"]]\n",
    "    return out\n",
    "\n",
    "def get_error_stat_string(errors):\n",
    "    out =  (f'Errors: min = {errors[\"min\"]:.2f}, max={errors[\"max\"]:.2f}, at {errors[\"max_idx\"]}, mean={errors[\"mean\"]:.2f}')\n",
    "    return out\n",
    "\n",
    "def get_big_errors_string(errors, th=3.0):\n",
    "    mask = errors['all'] > th\n",
    "    out =  (f'Error > {th} px, idxs: {np.arange(len(errors[\"all\"]))[mask]}')\n",
    "    return out\n",
    "\n",
    "\n"
   ]
  },
  {
   "cell_type": "code",
   "execution_count": null,
   "metadata": {},
   "outputs": [],
   "source": []
  },
  {
   "cell_type": "markdown",
   "metadata": {},
   "source": [
    "The function estimates the fundamental matrix or homography using (n-1) correspondences and returns error on that leaved-out correspondence (corr). The operation is repeated for every corr and the output is dict with those errors, together with min, mean, max and max_idx.\n",
    "I have got the idea from the [VSAC](https://arxiv.org/abs/2106.10240) paper"
   ]
  },
  {
   "cell_type": "code",
   "execution_count": null,
   "metadata": {},
   "outputs": [
    {
     "name": "stdout",
     "output_type": "stream",
     "text": [
      "dict_keys(['min', 'max', 'mean', 'all', 'max_idx'])\n",
      "Symmetrical epipolar distance, min error = 0.0941, max_error=16.8127, at 38, mean_error=2.0064\n",
      "Sampson error, min error = 0.0463, max_error=7.8037, at 38, mean_error=0.9528\n",
      "Errors: min = 0.05, max=7.80, at 38, mean=0.95\n",
      "Error > 3.0 px, idxs: [38]\n"
     ]
    },
    {
     "name": "stderr",
     "output_type": "stream",
     "text": [
      "/opt/homebrew/Caskroom/miniforge/base/envs/python39/lib/python3.9/site-packages/ipykernel/ipkernel.py:283: DeprecationWarning: `should_run_async` will not call `transform_cell` automatically in the future. Please pass the result to `transformed_cell` argument and any exception that happen during thetransform in `preprocessing_exc_tuple` in IPython 7.17 and above.\n",
      "  and should_run_async(code)\n"
     ]
    }
   ],
   "source": [
    "import matplotlib.pyplot as plt\n",
    "corrs = np.loadtxt('sample_project/petrzin/corrs.txt')\n",
    "errors = leave_one_out_F_validation(corrs, 'symepi')\n",
    "print (errors.keys())\n",
    "print (f'Symmetrical epipolar distance, min error = {errors[\"min\"]:.4f}, max_error={errors[\"max\"]:.4f}, at {errors[\"max_idx\"]}, mean_error={errors[\"mean\"]:.4f}')\n",
    "errors = leave_one_out_F_validation(corrs, 'sampson')\n",
    "print (f'Sampson error, min error = {errors[\"min\"]:.4f}, max_error={errors[\"max\"]:.4f}, at {errors[\"max_idx\"]}, mean_error={errors[\"mean\"]:.4f}')\n",
    "print (get_error_stat_string(errors))\n",
    "\n",
    "print (get_big_errors_string(errors))"
   ]
  },
  {
   "cell_type": "code",
   "execution_count": null,
   "metadata": {},
   "outputs": [
    {
     "name": "stdout",
     "output_type": "stream",
     "text": [
      "dict_keys(['min', 'max', 'mean', 'all', 'max_idx'])\n",
      "Symmetrical transfer distance, min error = 0.8725, max_error=152.3928, at 16, mean_error=50.3009\n",
      "Errors: min = 0.87, max=152.39, at 16, mean=50.30\n"
     ]
    },
    {
     "name": "stderr",
     "output_type": "stream",
     "text": [
      "/opt/homebrew/Caskroom/miniforge/base/envs/python39/lib/python3.9/site-packages/ipykernel/ipkernel.py:283: DeprecationWarning: `should_run_async` will not call `transform_cell` automatically in the future. Please pass the result to `transformed_cell` argument and any exception that happen during thetransform in `preprocessing_exc_tuple` in IPython 7.17 and above.\n",
      "  and should_run_async(code)\n"
     ]
    }
   ],
   "source": [
    "import matplotlib.pyplot as plt\n",
    "corrs = np.loadtxt('sample_project/petrzin/corrs.txt')\n",
    "errors = leave_one_out_H_validation(corrs)\n",
    "print (errors.keys())\n",
    "print (f'Symmetrical transfer distance, min error = {errors[\"min\"]:.4f}, max_error={errors[\"max\"]:.4f}, at {errors[\"max_idx\"]}, mean_error={errors[\"mean\"]:.4f}')\n",
    "print (get_error_stat_string(errors))"
   ]
  }
 ],
 "metadata": {
  "kernelspec": {
   "display_name": "python3",
   "language": "python",
   "name": "python3"
  }
 },
 "nbformat": 4,
 "nbformat_minor": 2
}
